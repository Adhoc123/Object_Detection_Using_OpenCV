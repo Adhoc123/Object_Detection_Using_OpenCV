{
 "cells": [
  {
   "cell_type": "code",
   "execution_count": null,
   "id": "182a091f",
   "metadata": {},
   "outputs": [],
   "source": [
    "import cv2                        #importing opencv for image processing"
   ]
  },
  {
   "cell_type": "code",
   "execution_count": null,
   "id": "bee70ce1",
   "metadata": {},
   "outputs": [],
   "source": [
    "import matplotlib.pyplot as plt   #importing matplotlib for data visualization"
   ]
  },
  {
   "cell_type": "code",
   "execution_count": null,
   "id": "a100be3a",
   "metadata": {},
   "outputs": [],
   "source": [
    "config_file = 'ssd_mobilenet_v3_large_coco_2020_01_14.pbtxt'   #loading configuration file\n",
    "frozen_model = 'frozen_inference_graph.pb'                     #loading tensorflow pretrained model"
   ]
  },
  {
   "cell_type": "code",
   "execution_count": null,
   "id": "94a7d04a",
   "metadata": {},
   "outputs": [],
   "source": [
    "model = cv2.dnn_DetectionModel(frozen_model,config_file)       #loading tensorflow pretrained model into memory"
   ]
  },
  {
   "cell_type": "code",
   "execution_count": null,
   "id": "42ab0abd",
   "metadata": {},
   "outputs": [],
   "source": [
    "classLabels = []                                           #creating a list\n",
    "file_name = 'Labels.txt'                                   #Reading labels\n",
    "with open(file_name,'rt') as fpt:\n",
    "    classLabels = fpt.read().rstrip('\\n').split('\\n')      #pushing into list"
   ]
  },
  {
   "cell_type": "code",
   "execution_count": null,
   "id": "d7657df4",
   "metadata": {},
   "outputs": [],
   "source": [
    "print(classLabels)                                                #printing classlabels"
   ]
  },
  {
   "cell_type": "code",
   "execution_count": null,
   "id": "6dadfa68",
   "metadata": {},
   "outputs": [],
   "source": [
    "print(len(classLabels))                                            #printing total class length"
   ]
  },
  {
   "cell_type": "code",
   "execution_count": null,
   "id": "c8cc4028",
   "metadata": {},
   "outputs": [],
   "source": [
    "model.setInputSize(320,320)                                      #setting input size\n",
    "model.setInputScale(1.0/127.5)    #255/2=127.5                   #scaling input\n",
    "model.setInputMean((127.5,127.5,127.5))                   #setting input mean\n",
    "model.setInputSwapRB(True)                  #setting input swap = True for automatic RGB conversion"
   ]
  },
  {
   "cell_type": "code",
   "execution_count": null,
   "id": "57df6843",
   "metadata": {},
   "outputs": [],
   "source": [
    "cap = cv2.VideoCapture(1)          #for capturing webcam\n",
    "\n",
    "if not cap.isOpened():             #checking if the video is opened correctly\n",
    "    cap = cv2.VideoCapture(0) \n",
    "if not cap.isOpened():\n",
    "    raise IOError('Cannot open webcam')\n",
    "\n",
    "font_scale = 3                    #font size\n",
    "font = cv2.FONT_HERSHEY_PLAIN     #font type\n",
    "\n",
    "while True:\n",
    "    ret,frame = cap.read()\n",
    "    ClassIndex, confidece, bbox = model.detect(frame,confThreshold=.55)      #for 50% confidece\n",
    "    print(ClassIndex)\n",
    "    if(len(ClassIndex)!=0):\n",
    "        for ClassInd, conf, boxes in zip(ClassIndex.flatten(), confidece.flatten(), bbox):      #flattening and zipping | var>=3\n",
    "            if(ClassInd<=80):\n",
    "                cv2.rectangle(frame,boxes,(255,0,0),2)   #plot this box having bgr\n",
    "                cv2.putText(frame,classLabels[ClassInd-1],(boxes[0]+10,boxes[1]+40),font,fontScale=font_scale,color=(0,255,0),thickness=3)\n",
    "    cv2.imshow('Object Detection',frame)\n",
    "    if cv2.waitKey(2) & 0xFF == ord('q'):\n",
    "        break\n",
    "cap.release()\n",
    "cv2.destroyAllWindows()"
   ]
  },
  {
   "cell_type": "code",
   "execution_count": null,
   "id": "35b9d640",
   "metadata": {},
   "outputs": [],
   "source": []
  }
 ],
 "metadata": {
  "kernelspec": {
   "display_name": "Python 3 (ipykernel)",
   "language": "python",
   "name": "python3"
  },
  "language_info": {
   "codemirror_mode": {
    "name": "ipython",
    "version": 3
   },
   "file_extension": ".py",
   "mimetype": "text/x-python",
   "name": "python",
   "nbconvert_exporter": "python",
   "pygments_lexer": "ipython3",
   "version": "3.9.7"
  }
 },
 "nbformat": 4,
 "nbformat_minor": 5
}
